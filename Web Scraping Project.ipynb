{
 "cells": [
  {
   "cell_type": "markdown",
   "id": "5fa0cc4e",
   "metadata": {},
   "source": [
    "# Web Scraping with Python + Selenium\n",
    "\n",
    "Before starting, I’m obliged to mention that web scraping is a grey area legally and ethicaly in lots of circumstances. Please consider the positive and negative effects of what you scrape before doing so!\n",
    "\n",
    "Warning over.\n",
    "\n",
    "## Now, let's go for it\n",
    "\n",
    "In this project I use **Python + Selenium** to get a **.csv** file with the 21/22 season's matches from Spain's La Liga\n",
    "(1° division Football League). We need to get this to make future analysis.\n",
    "\n",
    "## What we are going to do:\n",
    "\n",
    "We are going to scrap the data from here: https://www.adamchoi.co.uk/teamgoals/detailed\n",
    "\n",
    "Our process for extracting the data is going to go something like this:\n",
    "\n",
    "1. Import the libraries to use for in the project \n",
    "2. Load the webpage containing the data.\n",
    "3. Locate the data within the page and extract it.\n",
    "4. Organise the data into a dataframe\n",
    "5. Extract the data to a .csv\n",
    "\n",
    "Let's do it!"
   ]
  },
  {
   "cell_type": "markdown",
   "id": "44d7fc85",
   "metadata": {},
   "source": [
    "## 1. Importing the libraries to use for in the project "
   ]
  },
  {
   "cell_type": "code",
   "execution_count": 1,
   "id": "1bfbab6e",
   "metadata": {},
   "outputs": [],
   "source": [
    "from selenium import webdriver\n",
    "from selenium.webdriver.support.ui import Select\n",
    "\n",
    "import pandas as pd\n",
    "import time\n"
   ]
  },
  {
   "cell_type": "markdown",
   "id": "29b309d2",
   "metadata": {},
   "source": [
    "## 2. Load the webpage containing the data."
   ]
  },
  {
   "cell_type": "code",
   "execution_count": 2,
   "id": "792cdf20",
   "metadata": {},
   "outputs": [],
   "source": [
    "website = 'https://www.adamchoi.co.uk/teamgoals/detailed'\n",
    "path = r'C:/Users/Ronald C/Downloads/Data Analyst Portfolio Porjects/Project 5 Web Scrapping/chromedriver.exe'\n"
   ]
  },
  {
   "cell_type": "markdown",
   "id": "c6cc78c7",
   "metadata": {},
   "source": [
    "## 3. Locate the data within the page and extract it."
   ]
  },
  {
   "cell_type": "code",
   "execution_count": 4,
   "id": "042db68c",
   "metadata": {},
   "outputs": [],
   "source": [
    "driver = webdriver.Chrome(path)\n",
    "driver.get(website)\n",
    "\n",
    "all_matches_button = driver.find_element_by_xpath('//label[@analytics-event=\"All matches\"]')\n",
    "all_matches_button.click()\n",
    "\n",
    "drop_country = Select(driver.find_element_by_id('country'))\n",
    "drop_country.select_by_visible_text('Spain')\n",
    "\n",
    "drop_season = Select(driver.find_element_by_id('season'))\n",
    "drop_season.select_by_visible_text('21/22')\n",
    "\n",
    "time.sleep(5)\n",
    "\n",
    "\n",
    "# Creating a list with all the matches\n",
    "\n",
    "matches = driver.find_elements_by_tag_name('tr')\n",
    "\n",
    "match_list = []\n",
    "for match in matches:\n",
    "   match_list.append(match.text)\n",
    "    \n",
    "driver.quit()\n"
   ]
  },
  {
   "cell_type": "markdown",
   "id": "ae549b66",
   "metadata": {},
   "source": [
    "## 4. Organise the data into a dataframe and\n",
    "## 5. Extract the data to a .csv"
   ]
  },
  {
   "cell_type": "code",
   "execution_count": 5,
   "id": "6f1697a6",
   "metadata": {},
   "outputs": [
    {
     "name": "stdout",
     "output_type": "stream",
     "text": [
      "                                   Matches\n",
      "0      14-08-2021 Alaves 1 - 4 Real Madrid\n",
      "1         21-08-2021 Alaves 0 - 1 Mallorca\n",
      "2         27-08-2021 Valencia 3 - 0 Alaves\n",
      "3          18-09-2021 Alaves 0 - 2 Osasuna\n",
      "4          22-09-2021 Espanol 1 - 0 Alaves\n",
      "..                                     ...\n",
      "755     30-04-2022 Alaves 2 - 1 Villarreal\n",
      "756    08-05-2022 Villarreal 1 - 1 Sevilla\n",
      "757  12-05-2022 Vallecano 1 - 5 Villarreal\n",
      "758   15-05-2022 Villarreal 1 - 2 Sociedad\n",
      "759  22-05-2022 Barcelona 0 - 2 Villarreal\n",
      "\n",
      "[760 rows x 1 columns]\n"
     ]
    }
   ],
   "source": [
    "# Using Pandas to save the data for future analysis\n",
    "\n",
    "df = pd.DataFrame({'Matches' : match_list})\n",
    "print(df)\n",
    "df.to_csv('LaLiga.csv', index = False)\n",
    "    \n",
    "\n"
   ]
  },
  {
   "cell_type": "markdown",
   "id": "ddae2bee",
   "metadata": {},
   "source": [
    "That would be it, in the next project I'm going to use SQL to explore and organize the data and prepare it to make an amazing visualization"
   ]
  },
  {
   "cell_type": "code",
   "execution_count": null,
   "id": "024ab809",
   "metadata": {},
   "outputs": [],
   "source": []
  }
 ],
 "metadata": {
  "kernelspec": {
   "display_name": "Python 3 (ipykernel)",
   "language": "python",
   "name": "python3"
  },
  "language_info": {
   "codemirror_mode": {
    "name": "ipython",
    "version": 3
   },
   "file_extension": ".py",
   "mimetype": "text/x-python",
   "name": "python",
   "nbconvert_exporter": "python",
   "pygments_lexer": "ipython3",
   "version": "3.9.12"
  }
 },
 "nbformat": 4,
 "nbformat_minor": 5
}
